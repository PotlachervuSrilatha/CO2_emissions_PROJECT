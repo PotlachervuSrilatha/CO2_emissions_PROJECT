{
  "cells": [
    {
      "cell_type": "markdown",
      "metadata": {
        "id": "view-in-github",
        "colab_type": "text"
      },
      "source": [
        "<a href=\"https://colab.research.google.com/github/PotlachervuSrilatha/CO2_emissions_PROJECT/blob/main/Predicting_Fraudulent_Transactions.ipynb\" target=\"_parent\"><img src=\"https://colab.research.google.com/assets/colab-badge.svg\" alt=\"Open In Colab\"/></a>"
      ]
    },
    {
      "cell_type": "markdown",
      "metadata": {
        "id": "4z3CiZN6B-g0"
      },
      "source": [
        "### Data Loading ,Cleaning ,EDA & Visualization -"
      ]
    },
    {
      "cell_type": "code",
      "execution_count": 1,
      "metadata": {
        "id": "9CfL6RuHB-g2"
      },
      "outputs": [],
      "source": [
        "import pandas as pd\n",
        "import numpy as np\n",
        "import matplotlib.pyplot as plt\n",
        "%matplotlib inline\n",
        "import matplotlib.lines as mlines\n",
        "import seaborn as sns\n",
        "from statsmodels.stats.outliers_influence import variance_inflation_factor\n",
        "from sklearn.model_selection import train_test_split, learning_curve\n",
        "from sklearn.metrics import average_precision_score\n",
        "from xgboost.sklearn import XGBClassifier\n",
        "from xgboost import plot_importance, to_graphviz"
      ]
    },
    {
      "cell_type": "code",
      "execution_count": 2,
      "metadata": {
        "id": "BWYVeZITB-g3"
      },
      "outputs": [],
      "source": [
        "import warnings\n",
        "warnings.filterwarnings(\"ignore\")"
      ]
    },
    {
      "cell_type": "code",
      "execution_count": 3,
      "metadata": {
        "scrolled": true,
        "id": "6_MmzSBrB-g3"
      },
      "outputs": [],
      "source": [
        "df = pd.read_csv('Fraud.csv')"
      ]
    },
    {
      "cell_type": "code",
      "execution_count": 4,
      "metadata": {
        "colab": {
          "base_uri": "https://localhost:8080/",
          "height": 206
        },
        "id": "EjsOkd6GB-g3",
        "outputId": "a0dfa29d-9b9d-4195-96e7-6658ce71040f"
      },
      "outputs": [
        {
          "output_type": "execute_result",
          "data": {
            "text/plain": [
              "   step      type    amount     nameOrig  oldbalanceOrg  newbalanceOrig  \\\n",
              "0     1   PAYMENT   9839.64  C1231006815       170136.0       160296.36   \n",
              "1     1   PAYMENT   1864.28  C1666544295        21249.0        19384.72   \n",
              "2     1  TRANSFER    181.00  C1305486145          181.0            0.00   \n",
              "3     1  CASH_OUT    181.00   C840083671          181.0            0.00   \n",
              "4     1   PAYMENT  11668.14  C2048537720        41554.0        29885.86   \n",
              "\n",
              "      nameDest  oldbalanceDest  newbalanceDest  isFraud  isFlaggedFraud  \n",
              "0  M1979787155             0.0             0.0      0.0             0.0  \n",
              "1  M2044282225             0.0             0.0      0.0             0.0  \n",
              "2   C553264065             0.0             0.0      1.0             0.0  \n",
              "3    C38997010         21182.0             0.0      1.0             0.0  \n",
              "4  M1230701703             0.0             0.0      0.0             0.0  "
            ],
            "text/html": [
              "\n",
              "  <div id=\"df-2ddd549f-cf6b-4d42-b98c-e4d0b6d886ac\" class=\"colab-df-container\">\n",
              "    <div>\n",
              "<style scoped>\n",
              "    .dataframe tbody tr th:only-of-type {\n",
              "        vertical-align: middle;\n",
              "    }\n",
              "\n",
              "    .dataframe tbody tr th {\n",
              "        vertical-align: top;\n",
              "    }\n",
              "\n",
              "    .dataframe thead th {\n",
              "        text-align: right;\n",
              "    }\n",
              "</style>\n",
              "<table border=\"1\" class=\"dataframe\">\n",
              "  <thead>\n",
              "    <tr style=\"text-align: right;\">\n",
              "      <th></th>\n",
              "      <th>step</th>\n",
              "      <th>type</th>\n",
              "      <th>amount</th>\n",
              "      <th>nameOrig</th>\n",
              "      <th>oldbalanceOrg</th>\n",
              "      <th>newbalanceOrig</th>\n",
              "      <th>nameDest</th>\n",
              "      <th>oldbalanceDest</th>\n",
              "      <th>newbalanceDest</th>\n",
              "      <th>isFraud</th>\n",
              "      <th>isFlaggedFraud</th>\n",
              "    </tr>\n",
              "  </thead>\n",
              "  <tbody>\n",
              "    <tr>\n",
              "      <th>0</th>\n",
              "      <td>1</td>\n",
              "      <td>PAYMENT</td>\n",
              "      <td>9839.64</td>\n",
              "      <td>C1231006815</td>\n",
              "      <td>170136.0</td>\n",
              "      <td>160296.36</td>\n",
              "      <td>M1979787155</td>\n",
              "      <td>0.0</td>\n",
              "      <td>0.0</td>\n",
              "      <td>0.0</td>\n",
              "      <td>0.0</td>\n",
              "    </tr>\n",
              "    <tr>\n",
              "      <th>1</th>\n",
              "      <td>1</td>\n",
              "      <td>PAYMENT</td>\n",
              "      <td>1864.28</td>\n",
              "      <td>C1666544295</td>\n",
              "      <td>21249.0</td>\n",
              "      <td>19384.72</td>\n",
              "      <td>M2044282225</td>\n",
              "      <td>0.0</td>\n",
              "      <td>0.0</td>\n",
              "      <td>0.0</td>\n",
              "      <td>0.0</td>\n",
              "    </tr>\n",
              "    <tr>\n",
              "      <th>2</th>\n",
              "      <td>1</td>\n",
              "      <td>TRANSFER</td>\n",
              "      <td>181.00</td>\n",
              "      <td>C1305486145</td>\n",
              "      <td>181.0</td>\n",
              "      <td>0.00</td>\n",
              "      <td>C553264065</td>\n",
              "      <td>0.0</td>\n",
              "      <td>0.0</td>\n",
              "      <td>1.0</td>\n",
              "      <td>0.0</td>\n",
              "    </tr>\n",
              "    <tr>\n",
              "      <th>3</th>\n",
              "      <td>1</td>\n",
              "      <td>CASH_OUT</td>\n",
              "      <td>181.00</td>\n",
              "      <td>C840083671</td>\n",
              "      <td>181.0</td>\n",
              "      <td>0.00</td>\n",
              "      <td>C38997010</td>\n",
              "      <td>21182.0</td>\n",
              "      <td>0.0</td>\n",
              "      <td>1.0</td>\n",
              "      <td>0.0</td>\n",
              "    </tr>\n",
              "    <tr>\n",
              "      <th>4</th>\n",
              "      <td>1</td>\n",
              "      <td>PAYMENT</td>\n",
              "      <td>11668.14</td>\n",
              "      <td>C2048537720</td>\n",
              "      <td>41554.0</td>\n",
              "      <td>29885.86</td>\n",
              "      <td>M1230701703</td>\n",
              "      <td>0.0</td>\n",
              "      <td>0.0</td>\n",
              "      <td>0.0</td>\n",
              "      <td>0.0</td>\n",
              "    </tr>\n",
              "  </tbody>\n",
              "</table>\n",
              "</div>\n",
              "    <div class=\"colab-df-buttons\">\n",
              "\n",
              "  <div class=\"colab-df-container\">\n",
              "    <button class=\"colab-df-convert\" onclick=\"convertToInteractive('df-2ddd549f-cf6b-4d42-b98c-e4d0b6d886ac')\"\n",
              "            title=\"Convert this dataframe to an interactive table.\"\n",
              "            style=\"display:none;\">\n",
              "\n",
              "  <svg xmlns=\"http://www.w3.org/2000/svg\" height=\"24px\" viewBox=\"0 -960 960 960\">\n",
              "    <path d=\"M120-120v-720h720v720H120Zm60-500h600v-160H180v160Zm220 220h160v-160H400v160Zm0 220h160v-160H400v160ZM180-400h160v-160H180v160Zm440 0h160v-160H620v160ZM180-180h160v-160H180v160Zm440 0h160v-160H620v160Z\"/>\n",
              "  </svg>\n",
              "    </button>\n",
              "\n",
              "  <style>\n",
              "    .colab-df-container {\n",
              "      display:flex;\n",
              "      gap: 12px;\n",
              "    }\n",
              "\n",
              "    .colab-df-convert {\n",
              "      background-color: #E8F0FE;\n",
              "      border: none;\n",
              "      border-radius: 50%;\n",
              "      cursor: pointer;\n",
              "      display: none;\n",
              "      fill: #1967D2;\n",
              "      height: 32px;\n",
              "      padding: 0 0 0 0;\n",
              "      width: 32px;\n",
              "    }\n",
              "\n",
              "    .colab-df-convert:hover {\n",
              "      background-color: #E2EBFA;\n",
              "      box-shadow: 0px 1px 2px rgba(60, 64, 67, 0.3), 0px 1px 3px 1px rgba(60, 64, 67, 0.15);\n",
              "      fill: #174EA6;\n",
              "    }\n",
              "\n",
              "    .colab-df-buttons div {\n",
              "      margin-bottom: 4px;\n",
              "    }\n",
              "\n",
              "    [theme=dark] .colab-df-convert {\n",
              "      background-color: #3B4455;\n",
              "      fill: #D2E3FC;\n",
              "    }\n",
              "\n",
              "    [theme=dark] .colab-df-convert:hover {\n",
              "      background-color: #434B5C;\n",
              "      box-shadow: 0px 1px 3px 1px rgba(0, 0, 0, 0.15);\n",
              "      filter: drop-shadow(0px 1px 2px rgba(0, 0, 0, 0.3));\n",
              "      fill: #FFFFFF;\n",
              "    }\n",
              "  </style>\n",
              "\n",
              "    <script>\n",
              "      const buttonEl =\n",
              "        document.querySelector('#df-2ddd549f-cf6b-4d42-b98c-e4d0b6d886ac button.colab-df-convert');\n",
              "      buttonEl.style.display =\n",
              "        google.colab.kernel.accessAllowed ? 'block' : 'none';\n",
              "\n",
              "      async function convertToInteractive(key) {\n",
              "        const element = document.querySelector('#df-2ddd549f-cf6b-4d42-b98c-e4d0b6d886ac');\n",
              "        const dataTable =\n",
              "          await google.colab.kernel.invokeFunction('convertToInteractive',\n",
              "                                                    [key], {});\n",
              "        if (!dataTable) return;\n",
              "\n",
              "        const docLinkHtml = 'Like what you see? Visit the ' +\n",
              "          '<a target=\"_blank\" href=https://colab.research.google.com/notebooks/data_table.ipynb>data table notebook</a>'\n",
              "          + ' to learn more about interactive tables.';\n",
              "        element.innerHTML = '';\n",
              "        dataTable['output_type'] = 'display_data';\n",
              "        await google.colab.output.renderOutput(dataTable, element);\n",
              "        const docLink = document.createElement('div');\n",
              "        docLink.innerHTML = docLinkHtml;\n",
              "        element.appendChild(docLink);\n",
              "      }\n",
              "    </script>\n",
              "  </div>\n",
              "\n",
              "\n",
              "<div id=\"df-79123a24-3829-4cea-8bac-3d84cd645996\">\n",
              "  <button class=\"colab-df-quickchart\" onclick=\"quickchart('df-79123a24-3829-4cea-8bac-3d84cd645996')\"\n",
              "            title=\"Suggest charts\"\n",
              "            style=\"display:none;\">\n",
              "\n",
              "<svg xmlns=\"http://www.w3.org/2000/svg\" height=\"24px\"viewBox=\"0 0 24 24\"\n",
              "     width=\"24px\">\n",
              "    <g>\n",
              "        <path d=\"M19 3H5c-1.1 0-2 .9-2 2v14c0 1.1.9 2 2 2h14c1.1 0 2-.9 2-2V5c0-1.1-.9-2-2-2zM9 17H7v-7h2v7zm4 0h-2V7h2v10zm4 0h-2v-4h2v4z\"/>\n",
              "    </g>\n",
              "</svg>\n",
              "  </button>\n",
              "\n",
              "<style>\n",
              "  .colab-df-quickchart {\n",
              "      --bg-color: #E8F0FE;\n",
              "      --fill-color: #1967D2;\n",
              "      --hover-bg-color: #E2EBFA;\n",
              "      --hover-fill-color: #174EA6;\n",
              "      --disabled-fill-color: #AAA;\n",
              "      --disabled-bg-color: #DDD;\n",
              "  }\n",
              "\n",
              "  [theme=dark] .colab-df-quickchart {\n",
              "      --bg-color: #3B4455;\n",
              "      --fill-color: #D2E3FC;\n",
              "      --hover-bg-color: #434B5C;\n",
              "      --hover-fill-color: #FFFFFF;\n",
              "      --disabled-bg-color: #3B4455;\n",
              "      --disabled-fill-color: #666;\n",
              "  }\n",
              "\n",
              "  .colab-df-quickchart {\n",
              "    background-color: var(--bg-color);\n",
              "    border: none;\n",
              "    border-radius: 50%;\n",
              "    cursor: pointer;\n",
              "    display: none;\n",
              "    fill: var(--fill-color);\n",
              "    height: 32px;\n",
              "    padding: 0;\n",
              "    width: 32px;\n",
              "  }\n",
              "\n",
              "  .colab-df-quickchart:hover {\n",
              "    background-color: var(--hover-bg-color);\n",
              "    box-shadow: 0 1px 2px rgba(60, 64, 67, 0.3), 0 1px 3px 1px rgba(60, 64, 67, 0.15);\n",
              "    fill: var(--button-hover-fill-color);\n",
              "  }\n",
              "\n",
              "  .colab-df-quickchart-complete:disabled,\n",
              "  .colab-df-quickchart-complete:disabled:hover {\n",
              "    background-color: var(--disabled-bg-color);\n",
              "    fill: var(--disabled-fill-color);\n",
              "    box-shadow: none;\n",
              "  }\n",
              "\n",
              "  .colab-df-spinner {\n",
              "    border: 2px solid var(--fill-color);\n",
              "    border-color: transparent;\n",
              "    border-bottom-color: var(--fill-color);\n",
              "    animation:\n",
              "      spin 1s steps(1) infinite;\n",
              "  }\n",
              "\n",
              "  @keyframes spin {\n",
              "    0% {\n",
              "      border-color: transparent;\n",
              "      border-bottom-color: var(--fill-color);\n",
              "      border-left-color: var(--fill-color);\n",
              "    }\n",
              "    20% {\n",
              "      border-color: transparent;\n",
              "      border-left-color: var(--fill-color);\n",
              "      border-top-color: var(--fill-color);\n",
              "    }\n",
              "    30% {\n",
              "      border-color: transparent;\n",
              "      border-left-color: var(--fill-color);\n",
              "      border-top-color: var(--fill-color);\n",
              "      border-right-color: var(--fill-color);\n",
              "    }\n",
              "    40% {\n",
              "      border-color: transparent;\n",
              "      border-right-color: var(--fill-color);\n",
              "      border-top-color: var(--fill-color);\n",
              "    }\n",
              "    60% {\n",
              "      border-color: transparent;\n",
              "      border-right-color: var(--fill-color);\n",
              "    }\n",
              "    80% {\n",
              "      border-color: transparent;\n",
              "      border-right-color: var(--fill-color);\n",
              "      border-bottom-color: var(--fill-color);\n",
              "    }\n",
              "    90% {\n",
              "      border-color: transparent;\n",
              "      border-bottom-color: var(--fill-color);\n",
              "    }\n",
              "  }\n",
              "</style>\n",
              "\n",
              "  <script>\n",
              "    async function quickchart(key) {\n",
              "      const quickchartButtonEl =\n",
              "        document.querySelector('#' + key + ' button');\n",
              "      quickchartButtonEl.disabled = true;  // To prevent multiple clicks.\n",
              "      quickchartButtonEl.classList.add('colab-df-spinner');\n",
              "      try {\n",
              "        const charts = await google.colab.kernel.invokeFunction(\n",
              "            'suggestCharts', [key], {});\n",
              "      } catch (error) {\n",
              "        console.error('Error during call to suggestCharts:', error);\n",
              "      }\n",
              "      quickchartButtonEl.classList.remove('colab-df-spinner');\n",
              "      quickchartButtonEl.classList.add('colab-df-quickchart-complete');\n",
              "    }\n",
              "    (() => {\n",
              "      let quickchartButtonEl =\n",
              "        document.querySelector('#df-79123a24-3829-4cea-8bac-3d84cd645996 button');\n",
              "      quickchartButtonEl.style.display =\n",
              "        google.colab.kernel.accessAllowed ? 'block' : 'none';\n",
              "    })();\n",
              "  </script>\n",
              "</div>\n",
              "\n",
              "    </div>\n",
              "  </div>\n"
            ]
          },
          "metadata": {},
          "execution_count": 4
        }
      ],
      "source": [
        "df.head()"
      ]
    },
    {
      "cell_type": "markdown",
      "metadata": {
        "id": "a8y9A7WpB-g4"
      },
      "source": [
        "As we can see there are inconsistency in column names so we will cahange the column names for consistency."
      ]
    },
    {
      "cell_type": "code",
      "execution_count": 5,
      "metadata": {
        "colab": {
          "base_uri": "https://localhost:8080/"
        },
        "id": "r0bZLkQeB-g4",
        "outputId": "9d05639a-f601-46b0-f35b-ed65f67cbd43"
      },
      "outputs": [
        {
          "output_type": "execute_result",
          "data": {
            "text/plain": [
              "Index(['step', 'type', 'amount', 'nameorig', 'oldbalanceorig',\n",
              "       'newbalanceorig', 'namedest', 'oldbalancedest', 'newbalancedest',\n",
              "       'isFraud', 'isFlaggedFraud'],\n",
              "      dtype='object')"
            ]
          },
          "metadata": {},
          "execution_count": 5
        }
      ],
      "source": [
        "df = df.rename(columns={'nameOrig':'nameorig','oldbalanceOrg':'oldbalanceorig','newbalanceOrig':'newbalanceorig','nameDest':'namedest'\n",
        "    ,'oldbalanceDest':'oldbalancedest','newbalanceDest':'newbalancedest'})\n",
        "df.columns"
      ]
    },
    {
      "cell_type": "markdown",
      "metadata": {
        "id": "zS-UJrpLB-g4"
      },
      "source": [
        "### 1. Data cleaning including missing values, outliers and multi-collinearity"
      ]
    },
    {
      "cell_type": "code",
      "execution_count": 6,
      "metadata": {
        "scrolled": true,
        "colab": {
          "base_uri": "https://localhost:8080/"
        },
        "id": "Nk2odIQtB-g4",
        "outputId": "d0a94402-c44d-40a5-b42b-2177bebd4fb6"
      },
      "outputs": [
        {
          "output_type": "execute_result",
          "data": {
            "text/plain": [
              "step              0\n",
              "type              0\n",
              "amount            0\n",
              "nameorig          0\n",
              "oldbalanceorig    0\n",
              "newbalanceorig    0\n",
              "namedest          0\n",
              "oldbalancedest    0\n",
              "newbalancedest    1\n",
              "isFraud           1\n",
              "isFlaggedFraud    1\n",
              "dtype: int64"
            ]
          },
          "metadata": {},
          "execution_count": 6
        }
      ],
      "source": [
        "df.isnull().sum()"
      ]
    },
    {
      "cell_type": "code",
      "source": [],
      "metadata": {
        "id": "prwJGespUk5I"
      },
      "execution_count": 6,
      "outputs": []
    },
    {
      "cell_type": "code",
      "source": [
        " #df.dropna(axis=1)"
      ],
      "metadata": {
        "id": "BiyajB8CT_lD"
      },
      "execution_count": 7,
      "outputs": []
    },
    {
      "cell_type": "code",
      "source": [
        "# Impute with mean\n",
        "df['oldbalancedest'].fillna(df['oldbalancedest'].mean(), inplace=True)\n",
        "df['newbalancedest'].fillna(df['newbalancedest'].mean(), inplace=True)\n",
        "df['isFraud'].fillna(df['isFraud'].mean(), inplace=True)\n",
        "df['isFlaggedFraud'].fillna(df['isFlaggedFraud'].mean(), inplace=True)\n",
        "\n"
      ],
      "metadata": {
        "id": "eiU6Xl5qCWWN"
      },
      "execution_count": 8,
      "outputs": []
    },
    {
      "cell_type": "code",
      "source": [
        "df.isnull().any()"
      ],
      "metadata": {
        "id": "zbOOAzIjOD-H",
        "outputId": "318cc929-1a5c-4648-d348-066c726d0cba",
        "colab": {
          "base_uri": "https://localhost:8080/"
        }
      },
      "execution_count": 9,
      "outputs": [
        {
          "output_type": "execute_result",
          "data": {
            "text/plain": [
              "step              False\n",
              "type              False\n",
              "amount            False\n",
              "nameorig          False\n",
              "oldbalanceorig    False\n",
              "newbalanceorig    False\n",
              "namedest          False\n",
              "oldbalancedest    False\n",
              "newbalancedest    False\n",
              "isFraud           False\n",
              "isFlaggedFraud    False\n",
              "dtype: bool"
            ]
          },
          "metadata": {},
          "execution_count": 9
        }
      ]
    },
    {
      "cell_type": "markdown",
      "metadata": {
        "id": "-6RmfFM7B-g5"
      },
      "source": [
        "* As we can see there are no missing values in Dataset.\n",
        "* There is no point in checking outliers because it is finacial data where bank balance can be any real number value so there is really no parameter where we can scale it."
      ]
    },
    {
      "cell_type": "code",
      "source": [
        "sns.countplot(df.type) ## for discrete data"
      ],
      "metadata": {
        "id": "FNbqxfzQVheu",
        "outputId": "e125927d-f0c9-4c42-eaaa-259f76bad0f9",
        "colab": {
          "base_uri": "https://localhost:8080/",
          "height": 467
        }
      },
      "execution_count": 10,
      "outputs": [
        {
          "output_type": "execute_result",
          "data": {
            "text/plain": [
              "<Axes: xlabel='count', ylabel='type'>"
            ]
          },
          "metadata": {},
          "execution_count": 10
        },
        {
          "output_type": "display_data",
          "data": {
            "text/plain": [
              "<Figure size 640x480 with 1 Axes>"
            ],
            "image/png": "[encoded data removed]"
          },
          "metadata": {}
        }
      ]
    },
    {
      "cell_type": "code",
      "source": [
        "# print histogram for each parameter\n",
        "df.hist(figsize=(20,10))\n",
        "plt.show()"
      ],
      "metadata": {
        "id": "JsErIjXTS-ij",
        "colab": {
          "base_uri": "https://localhost:8080/",
          "height": 680
        },
        "outputId": "31eaacbf-9a18-4cd7-a43d-f91de1be8801"
      },
      "execution_count": 11,
      "outputs": [
        {
          "output_type": "display_data",
          "data": {
            "text/plain": [
              "<Figure size 2000x1000 with 9 Axes>"
            ],
            "image/png": "[encoded data removed]"
          },
          "metadata": {}
        }
      ]
    },
    {
      "cell_type": "code",
      "source": [
        "df.corr()\n",
        "fig = plt.figure(figsize=(12,9))\n",
        "\n",
        "sns.heatmap(df.corr(), vmax = 0.8, square=True)\n",
        "plt.show()"
      ],
      "metadata": {
        "id": "FDSYF3tzS-fF",
        "colab": {
          "base_uri": "https://localhost:8080/",
          "height": 858
        },
        "outputId": "b92a936d-49dc-406b-8de2-7c4cfa7f7f73"
      },
      "execution_count": 12,
      "outputs": [
        {
          "output_type": "display_data",
          "data": {
            "text/plain": [
              "<Figure size 1200x900 with 2 Axes>"
            ],
            "image/png": "[encoded data removed]"
          },
          "metadata": {}
        }
      ]
    },
    {
      "cell_type": "markdown",
      "metadata": {
        "id": "oKh_5AWbB-g5"
      },
      "source": [
        "### Multi-collinearity -"
      ]
    },
    {
      "cell_type": "code",
      "execution_count": 13,
      "metadata": {
        "id": "Ee3AMnkqB-g5",
        "colab": {
          "base_uri": "https://localhost:8080/",
          "height": 206
        },
        "outputId": "7eb4dabb-0a42-4449-fe76-e8215b6458c9"
      },
      "outputs": [
        {
          "output_type": "execute_result",
          "data": {
            "text/plain": [
              "   step  type    amount  oldbalanceorig  newbalanceorig  oldbalancedest  \\\n",
              "0     1     1   9839.64        170136.0       160296.36             0.0   \n",
              "1     1     1   1864.28         21249.0        19384.72             0.0   \n",
              "2     1     2    181.00           181.0            0.00             0.0   \n",
              "3     1     3    181.00           181.0            0.00         21182.0   \n",
              "4     1     1  11668.14         41554.0        29885.86             0.0   \n",
              "\n",
              "   newbalancedest  \n",
              "0             0.0  \n",
              "1             0.0  \n",
              "2             0.0  \n",
              "3             0.0  \n",
              "4             0.0  "
            ],
            "text/html": [
              "\n",
              "  <div id=\"df-a45996c0-c70c-402f-a75c-6e08706a66be\" class=\"colab-df-container\">\n",
              "    <div>\n",
              "<style scoped>\n",
              "    .dataframe tbody tr th:only-of-type {\n",
              "        vertical-align: middle;\n",
              "    }\n",
              "\n",
              "    .dataframe tbody tr th {\n",
              "        vertical-align: top;\n",
              "    }\n",
              "\n",
              "    .dataframe thead th {\n",
              "        text-align: right;\n",
              "    }\n",
              "</style>\n",
              "<table border=\"1\" class=\"dataframe\">\n",
              "  <thead>\n",
              "    <tr style=\"text-align: right;\">\n",
              "      <th></th>\n",
              "      <th>step</th>\n",
              "      <th>type</th>\n",
              "      <th>amount</th>\n",
              "      <th>oldbalanceorig</th>\n",
              "      <th>newbalanceorig</th>\n",
              "      <th>oldbalancedest</th>\n",
              "      <th>newbalancedest</th>\n",
              "    </tr>\n",
              "  </thead>\n",
              "  <tbody>\n",
              "    <tr>\n",
              "      <th>0</th>\n",
              "      <td>1</td>\n",
              "      <td>1</td>\n",
              "      <td>9839.64</td>\n",
              "      <td>170136.0</td>\n",
              "      <td>160296.36</td>\n",
              "      <td>0.0</td>\n",
              "      <td>0.0</td>\n",
              "    </tr>\n",
              "    <tr>\n",
              "      <th>1</th>\n",
              "      <td>1</td>\n",
              "      <td>1</td>\n",
              "      <td>1864.28</td>\n",
              "      <td>21249.0</td>\n",
              "      <td>19384.72</td>\n",
              "      <td>0.0</td>\n",
              "      <td>0.0</td>\n",
              "    </tr>\n",
              "    <tr>\n",
              "      <th>2</th>\n",
              "      <td>1</td>\n",
              "      <td>2</td>\n",
              "      <td>181.00</td>\n",
              "      <td>181.0</td>\n",
              "      <td>0.00</td>\n",
              "      <td>0.0</td>\n",
              "      <td>0.0</td>\n",
              "    </tr>\n",
              "    <tr>\n",
              "      <th>3</th>\n",
              "      <td>1</td>\n",
              "      <td>3</td>\n",
              "      <td>181.00</td>\n",
              "      <td>181.0</td>\n",
              "      <td>0.00</td>\n",
              "      <td>21182.0</td>\n",
              "      <td>0.0</td>\n",
              "    </tr>\n",
              "    <tr>\n",
              "      <th>4</th>\n",
              "      <td>1</td>\n",
              "      <td>1</td>\n",
              "      <td>11668.14</td>\n",
              "      <td>41554.0</td>\n",
              "      <td>29885.86</td>\n",
              "      <td>0.0</td>\n",
              "      <td>0.0</td>\n",
              "    </tr>\n",
              "  </tbody>\n",
              "</table>\n",
              "</div>\n",
              "    <div class=\"colab-df-buttons\">\n",
              "\n",
              "  <div class=\"colab-df-container\">\n",
              "    <button class=\"colab-df-convert\" onclick=\"convertToInteractive('df-a45996c0-c70c-402f-a75c-6e08706a66be')\"\n",
              "            title=\"Convert this dataframe to an interactive table.\"\n",
              "            style=\"display:none;\">\n",
              "\n",
              "  <svg xmlns=\"http://www.w3.org/2000/svg\" height=\"24px\" viewBox=\"0 -960 960 960\">\n",
              "    <path d=\"M120-120v-720h720v720H120Zm60-500h600v-160H180v160Zm220 220h160v-160H400v160Zm0 220h160v-160H400v160ZM180-400h160v-160H180v160Zm440 0h160v-160H620v160ZM180-180h160v-160H180v160Zm440 0h160v-160H620v160Z\"/>\n",
              "  </svg>\n",
              "    </button>\n",
              "\n",
              "  <style>\n",
              "    .colab-df-container {\n",
              "      display:flex;\n",
              "      gap: 12px;\n",
              "    }\n",
              "\n",
              "    .colab-df-convert {\n",
              "      background-color: #E8F0FE;\n",
              "      border: none;\n",
              "      border-radius: 50%;\n",
              "      cursor: pointer;\n",
              "      display: none;\n",
              "      fill: #1967D2;\n",
              "      height: 32px;\n",
              "      padding: 0 0 0 0;\n",
              "      width: 32px;\n",
              "    }\n",
              "\n",
              "    .colab-df-convert:hover {\n",
              "      background-color: #E2EBFA;\n",
              "      box-shadow: 0px 1px 2px rgba(60, 64, 67, 0.3), 0px 1px 3px 1px rgba(60, 64, 67, 0.15);\n",
              "      fill: #174EA6;\n",
              "    }\n",
              "\n",
              "    .colab-df-buttons div {\n",
              "      margin-bottom: 4px;\n",
              "    }\n",
              "\n",
              "    [theme=dark] .colab-df-convert {\n",
              "      background-color: #3B4455;\n",
              "      fill: #D2E3FC;\n",
              "    }\n",
              "\n",
              "    [theme=dark] .colab-df-convert:hover {\n",
              "      background-color: #434B5C;\n",
              "      box-shadow: 0px 1px 3px 1px rgba(0, 0, 0, 0.15);\n",
              "      filter: drop-shadow(0px 1px 2px rgba(0, 0, 0, 0.3));\n",
              "      fill: #FFFFFF;\n",
              "    }\n",
              "  </style>\n",
              "\n",
              "    <script>\n",
              "      const buttonEl =\n",
              "        document.querySelector('#df-a45996c0-c70c-402f-a75c-6e08706a66be button.colab-df-convert');\n",
              "      buttonEl.style.display =\n",
              "        google.colab.kernel.accessAllowed ? 'block' : 'none';\n",
              "\n",
              "      async function convertToInteractive(key) {\n",
              "        const element = document.querySelector('#df-a45996c0-c70c-402f-a75c-6e08706a66be');\n",
              "        const dataTable =\n",
              "          await google.colab.kernel.invokeFunction('convertToInteractive',\n",
              "                                                    [key], {});\n",
              "        if (!dataTable) return;\n",
              "\n",
              "        const docLinkHtml = 'Like what you see? Visit the ' +\n",
              "          '<a target=\"_blank\" href=https://colab.research.google.com/notebooks/data_table.ipynb>data table notebook</a>'\n",
              "          + ' to learn more about interactive tables.';\n",
              "        element.innerHTML = '';\n",
              "        dataTable['output_type'] = 'display_data';\n",
              "        await google.colab.output.renderOutput(dataTable, element);\n",
              "        const docLink = document.createElement('div');\n",
              "        docLink.innerHTML = docLinkHtml;\n",
              "        element.appendChild(docLink);\n",
              "      }\n",
              "    </script>\n",
              "  </div>\n",
              "\n",
              "\n",
              "<div id=\"df-2a7cf2bc-3030-47f8-907c-c6ffa3ee7b74\">\n",
              "  <button class=\"colab-df-quickchart\" onclick=\"quickchart('df-2a7cf2bc-3030-47f8-907c-c6ffa3ee7b74')\"\n",
              "            title=\"Suggest charts\"\n",
              "            style=\"display:none;\">\n",
              "\n",
              "<svg xmlns=\"http://www.w3.org/2000/svg\" height=\"24px\"viewBox=\"0 0 24 24\"\n",
              "     width=\"24px\">\n",
              "    <g>\n",
              "        <path d=\"M19 3H5c-1.1 0-2 .9-2 2v14c0 1.1.9 2 2 2h14c1.1 0 2-.9 2-2V5c0-1.1-.9-2-2-2zM9 17H7v-7h2v7zm4 0h-2V7h2v10zm4 0h-2v-4h2v4z\"/>\n",
              "    </g>\n",
              "</svg>\n",
              "  </button>\n",
              "\n",
              "<style>\n",
              "  .colab-df-quickchart {\n",
              "      --bg-color: #E8F0FE;\n",
              "      --fill-color: #1967D2;\n",
              "      --hover-bg-color: #E2EBFA;\n",
              "      --hover-fill-color: #174EA6;\n",
              "      --disabled-fill-color: #AAA;\n",
              "      --disabled-bg-color: #DDD;\n",
              "  }\n",
              "\n",
              "  [theme=dark] .colab-df-quickchart {\n",
              "      --bg-color: #3B4455;\n",
              "      --fill-color: #D2E3FC;\n",
              "      --hover-bg-color: #434B5C;\n",
              "      --hover-fill-color: #FFFFFF;\n",
              "      --disabled-bg-color: #3B4455;\n",
              "      --disabled-fill-color: #666;\n",
              "  }\n",
              "\n",
              "  .colab-df-quickchart {\n",
              "    background-color: var(--bg-color);\n",
              "    border: none;\n",
              "    border-radius: 50%;\n",
              "    cursor: pointer;\n",
              "    display: none;\n",
              "    fill: var(--fill-color);\n",
              "    height: 32px;\n",
              "    padding: 0;\n",
              "    width: 32px;\n",
              "  }\n",
              "\n",
              "  .colab-df-quickchart:hover {\n",
              "    background-color: var(--hover-bg-color);\n",
              "    box-shadow: 0 1px 2px rgba(60, 64, 67, 0.3), 0 1px 3px 1px rgba(60, 64, 67, 0.15);\n",
              "    fill: var(--button-hover-fill-color);\n",
              "  }\n",
              "\n",
              "  .colab-df-quickchart-complete:disabled,\n",
              "  .colab-df-quickchart-complete:disabled:hover {\n",
              "    background-color: var(--disabled-bg-color);\n",
              "    fill: var(--disabled-fill-color);\n",
              "    box-shadow: none;\n",
              "  }\n",
              "\n",
              "  .colab-df-spinner {\n",
              "    border: 2px solid var(--fill-color);\n",
              "    border-color: transparent;\n",
              "    border-bottom-color: var(--fill-color);\n",
              "    animation:\n",
              "      spin 1s steps(1) infinite;\n",
              "  }\n",
              "\n",
              "  @keyframes spin {\n",
              "    0% {\n",
              "      border-color: transparent;\n",
              "      border-bottom-color: var(--fill-color);\n",
              "      border-left-color: var(--fill-color);\n",
              "    }\n",
              "    20% {\n",
              "      border-color: transparent;\n",
              "      border-left-color: var(--fill-color);\n",
              "      border-top-color: var(--fill-color);\n",
              "    }\n",
              "    30% {\n",
              "      border-color: transparent;\n",
              "      border-left-color: var(--fill-color);\n",
              "      border-top-color: var(--fill-color);\n",
              "      border-right-color: var(--fill-color);\n",
              "    }\n",
              "    40% {\n",
              "      border-color: transparent;\n",
              "      border-right-color: var(--fill-color);\n",
              "      border-top-color: var(--fill-color);\n",
              "    }\n",
              "    60% {\n",
              "      border-color: transparent;\n",
              "      border-right-color: var(--fill-color);\n",
              "    }\n",
              "    80% {\n",
              "      border-color: transparent;\n",
              "      border-right-color: var(--fill-color);\n",
              "      border-bottom-color: var(--fill-color);\n",
              "    }\n",
              "    90% {\n",
              "      border-color: transparent;\n",
              "      border-bottom-color: var(--fill-color);\n",
              "    }\n",
              "  }\n",
              "</style>\n",
              "\n",
              "  <script>\n",
              "    async function quickchart(key) {\n",
              "      const quickchartButtonEl =\n",
              "        document.querySelector('#' + key + ' button');\n",
              "      quickchartButtonEl.disabled = true;  // To prevent multiple clicks.\n",
              "      quickchartButtonEl.classList.add('colab-df-spinner');\n",
              "      try {\n",
              "        const charts = await google.colab.kernel.invokeFunction(\n",
              "            'suggestCharts', [key], {});\n",
              "      } catch (error) {\n",
              "        console.error('Error during call to suggestCharts:', error);\n",
              "      }\n",
              "      quickchartButtonEl.classList.remove('colab-df-spinner');\n",
              "      quickchartButtonEl.classList.add('colab-df-quickchart-complete');\n",
              "    }\n",
              "    (() => {\n",
              "      let quickchartButtonEl =\n",
              "        document.querySelector('#df-2a7cf2bc-3030-47f8-907c-c6ffa3ee7b74 button');\n",
              "      quickchartButtonEl.style.display =\n",
              "        google.colab.kernel.accessAllowed ? 'block' : 'none';\n",
              "    })();\n",
              "  </script>\n",
              "</div>\n",
              "\n",
              "    </div>\n",
              "  </div>\n"
            ]
          },
          "metadata": {},
          "execution_count": 13
        }
      ],
      "source": [
        "df1 = df.copy(deep = 'true')\n",
        "df1['type']=df1['type'].map({'PAYMENT':1 ,'TRANSFER':2, 'CASH_OUT':3, 'DEBIT':4, 'CASH_IN':5})\n",
        "df1 = df1.drop(columns = ['nameorig','namedest','isFraud','isFlaggedFraud'])\n",
        "df1.head()"
      ]
    },
    {
      "cell_type": "code",
      "execution_count": 14,
      "metadata": {
        "id": "tRqokK47B-g5",
        "colab": {
          "base_uri": "https://localhost:8080/"
        },
        "outputId": "67853fef-a1c5-43ed-d7ae-4c6ee054b9ba"
      },
      "outputs": [
        {
          "output_type": "stream",
          "name": "stdout",
          "text": [
            "          feature         VIF\n",
            "0            step    3.965847\n",
            "1            type    5.327677\n",
            "2          amount    1.657439\n",
            "3  oldbalanceorig  632.712819\n",
            "4  newbalanceorig  644.678826\n",
            "5  oldbalancedest    9.312813\n",
            "6  newbalancedest   10.475804\n"
          ]
        }
      ],
      "source": [
        "#calculating VIf to check the MUlti-collinearity between variables -\n",
        "\n",
        "vif_data = pd.DataFrame()\n",
        "vif_data[\"feature\"] = df1.columns\n",
        "vif_data[\"VIF\"] = [variance_inflation_factor(df1.values, i)\n",
        "                          for i in range(len(df1.columns))]\n",
        "print(vif_data)\n"
      ]
    },
    {
      "cell_type": "markdown",
      "source": [
        "\n",
        "- VIF=1: No multicollinearity.\n",
        "\n",
        "- VIF>1: Some correlation, but generally not problematic.\n",
        "\n",
        "- VIF>5: High correlation, and may be a cause for concern.\n",
        "\n",
        "- VIF>10: Very high correlation, and the predictor should be carefully"
      ],
      "metadata": {
        "id": "iHVR5a79OvKD"
      }
    },
    {
      "cell_type": "markdown",
      "metadata": {
        "id": "6j5VjTT0B-g5"
      },
      "source": [
        "*  **As we can see, oldbalance and newbalance have very high values of VIF, indicating that these two variables are highly correlated. This is expected as the transaction happens does changes their values. Hence, considering these two features together leads to a model with high multicollinearity.**"
      ]
    },
    {
      "cell_type": "markdown",
      "metadata": {
        "id": "2CbS8z6DB-g5"
      },
      "source": [
        "### 1. which type of transactions are fraud using isFraud -\n",
        "There are 2 flags From those,isFraud is the indicator which indicates the actual fraud transactions whereas isFlaggedFraud is what the system prevents the transaction due to some thresholds being triggered.\n"
      ]
    },
    {
      "cell_type": "code",
      "execution_count": 15,
      "metadata": {
        "id": "z3KwXwODB-g5",
        "colab": {
          "base_uri": "https://localhost:8080/"
        },
        "outputId": "0574b63c-dbcd-4cc9-c39d-049ba36d35f9"
      },
      "outputs": [
        {
          "output_type": "stream",
          "name": "stdout",
          "text": [
            "Type of transaction which are fraud:['TRANSFER', 'CASH_OUT']\n",
            "number of transfer are fraud :53\n",
            "number of cashout are fraud :54\n"
          ]
        }
      ],
      "source": [
        "print('Type of transaction which are fraud:{}'.format(list(df.loc[df.isFraud == 1].type.drop_duplicates().values)))\n",
        "\n",
        "fraud_transfer = df.loc[(df.isFraud == 1) & (df.type == 'TRANSFER')]\n",
        "fraud_cashout = df.loc[(df.isFraud == 1) & (df.type == 'CASH_OUT')]\n",
        "\n",
        "\n",
        "print('number of transfer are fraud :{}'.format(len(fraud_transfer)))\n",
        "print('number of cashout are fraud :{}'.format(len(fraud_cashout)))\n",
        "\n"
      ]
    },
    {
      "cell_type": "markdown",
      "metadata": {
        "id": "mmBPjY-qB-g6"
      },
      "source": [
        "### 2. Analysis on isFlaggedFraud variable -\n",
        "\n",
        "isFlaggedFraud = The business model aims to control massive transfers from one account to another and flags illegal attempts. An illegal attempt in this dataset is an attempt to transfer more than 200.000 in a single transaction."
      ]
    },
    {
      "cell_type": "code",
      "execution_count": 16,
      "metadata": {
        "id": "OfBbgTKeB-g6",
        "colab": {
          "base_uri": "https://localhost:8080/"
        },
        "outputId": "3c0359f2-a6af-4f21-cde5-7dd8be071aa8"
      },
      "outputs": [
        {
          "output_type": "stream",
          "name": "stdout",
          "text": [
            "Number of isFlaggedFraud == 1 : 0\n"
          ]
        }
      ],
      "source": [
        "amount_flagfraud0 = list(df.loc[(df.isFlaggedFraud == 0) ].amount.values)\n",
        "amount_flagfraud1 = list(df.loc[(df.isFlaggedFraud == 1) ].amount.values)\n",
        "\n",
        "\n",
        "\n",
        "\n",
        "print('Number of isFlaggedFraud == 1 : {}'.format(len(list(df.loc[df.isFlaggedFraud ==1 ].isFlaggedFraud.values))))"
      ]
    },
    {
      "cell_type": "code",
      "source": [
        "amount_flagfraud0 = list(df.loc[df.isFlaggedFraud == 0].amount.values)\n",
        "amount_flagfraud1 = list(df.loc[df.isFlaggedFraud == 1].amount.values)\n",
        "\n",
        "if len(amount_flagfraud1) > 0:\n",
        "    print('Minimum amount transfer where isFlaggedFraud is 1: {}'.format(min(amount_flagfraud1)))\n",
        "else:\n",
        "    print('No transactions found where isFlaggedFraud is 1')\n",
        "\n",
        "if len(amount_flagfraud0) > 0:\n",
        "    print('Maximum amount transfer where isFlaggedFraud is 0: {}'.format(max(amount_flagfraud0)))\n",
        "else:\n",
        "    print('No transactions found where isFlaggedFraud is 0')\n",
        "\n",
        "print('Number of isFlaggedFraud == 1: {}'.format(len(df.loc[df.isFlaggedFraud == 1])))\n"
      ],
      "metadata": {
        "id": "c1EdAkMYSEpS",
        "colab": {
          "base_uri": "https://localhost:8080/"
        },
        "outputId": "246679da-6f70-4af9-fc93-d012089e5a92"
      },
      "execution_count": 17,
      "outputs": [
        {
          "output_type": "stream",
          "name": "stdout",
          "text": [
            "No transactions found where isFlaggedFraud is 1\n",
            "Maximum amount transfer where isFlaggedFraud is 0: 10000000.0\n",
            "Number of isFlaggedFraud == 1: 0\n"
          ]
        }
      ]
    },
    {
      "cell_type": "markdown",
      "metadata": {
        "id": "y90sPz7fB-g6"
      },
      "source": [
        "**isFlaggedFraud variable is set to 1 when transfer is more than 200,000 in single transaction but we can see that from above analysis. This variable is useless because maximum amount transfer in single transcation.so we will drop this feature.\n"
      ]
    },
    {
      "cell_type": "markdown",
      "metadata": {
        "id": "ezEFATY5B-g6"
      },
      "source": [
        "### 3. Oldblanceorig and newbalanceorig variable -"
      ]
    },
    {
      "cell_type": "markdown",
      "metadata": {
        "id": "1SWjGkDVB-g6"
      },
      "source": [
        "* From below analysis we can see that as multiple newbalancedset and oldbalance dest have zero values because the transaction is put on hold & there are no information available for merchants.\n"
      ]
    },
    {
      "cell_type": "code",
      "execution_count": 18,
      "metadata": {
        "id": "nlRMtuPnB-g6",
        "colab": {
          "base_uri": "https://localhost:8080/"
        },
        "outputId": "dd935a42-7f2f-4e8a-8757-632d86c8d7a0"
      },
      "outputs": [
        {
          "output_type": "stream",
          "name": "stdout",
          "text": [
            "numebr of recipant who have newbalancedest and oldbalancedest is zero :29667\n"
          ]
        }
      ],
      "source": [
        "\n",
        "\n",
        "print('numebr of recipant who have newbalancedest and oldbalancedest is zero :{}'\n",
        "      .format(len(df.loc[(df.newbalancedest == 0) & (df.oldbalancedest == 0) ].namedest.values)))\n"
      ]
    },
    {
      "cell_type": "markdown",
      "metadata": {
        "id": "r-TH57gWB-g6"
      },
      "source": [
        "* From below analysis we can see that there is transaction amount but our  odlbalanceorig & newbalanceorig are zero,That doesn't make sense because if amount is there that means transaction is happened . so there are must be error in these variable or **missing values**"
      ]
    },
    {
      "cell_type": "code",
      "execution_count": 19,
      "metadata": {
        "id": "10RuphSbB-g6",
        "colab": {
          "base_uri": "https://localhost:8080/"
        },
        "outputId": "172ce929-ee5a-43ce-9771-eabd99cd6c67"
      },
      "outputs": [
        {
          "output_type": "stream",
          "name": "stdout",
          "text": [
            "Number of transcation where oldbalanceorig & newbalanceorig is zero but amount of transaction is not zero :21354\n"
          ]
        }
      ],
      "source": [
        "zero_balance = list(df.loc[(df.oldbalanceorig == 0) & (df.newbalanceorig == 0) & (df.amount != 0)].type.values)\n",
        "\n",
        "print('Number of transcation where oldbalanceorig & newbalanceorig is zero but amount of transaction is not zero :{}'.format(len(zero_balance)))"
      ]
    },
    {
      "cell_type": "markdown",
      "metadata": {
        "id": "PAHR3CF0B-g6"
      },
      "source": [
        "#### Lets see how many merchants account in originator accounts and does merchants account have fraud transaction ?\n",
        "oldbalanceDest - initial balance recipient before the transaction. Note that there is not information for customers that start with M (Merchants).\n",
        "\n",
        "newbalanceDest - new balance recipient after the transaction. Note that there is not information for customers that start with M (Merchants)."
      ]
    },
    {
      "cell_type": "code",
      "execution_count": 20,
      "metadata": {
        "id": "Qu2f9xOgB-g6",
        "colab": {
          "base_uri": "https://localhost:8080/"
        },
        "outputId": "8d3b6b36-931d-4471-8051-63c801177872"
      },
      "outputs": [
        {
          "output_type": "stream",
          "name": "stdout",
          "text": [
            "number of merchants in originator transaction: False\n",
            "number of merchant acoount in destination where type is Transfer : False\n",
            "number of merchant acoount in destination where type is cashout : False\n"
          ]
        }
      ],
      "source": [
        "print('number of merchants in originator transaction: {}' .format(df.nameorig.str.contains('M').any()))\n",
        "print('number of merchant acoount in destination where type is Transfer : {}' .format(df.loc[df.type =='TRANSFER'].namedest.str.contains('M').any()))\n",
        "print('number of merchant acoount in destination where type is cashout : {}' .format(df.loc[df.type =='CASH_OUT'].namedest.str.contains('M').any()))"
      ]
    },
    {
      "cell_type": "markdown",
      "metadata": {
        "id": "HqUpWH0bB-g7"
      },
      "source": [
        "##### There are no Merchant account through Fraud transaction is happen so missing information does not affect while building model"
      ]
    },
    {
      "cell_type": "markdown",
      "metadata": {
        "id": "kA8acDL-B-g7"
      },
      "source": [
        "### Data cleaning -\n",
        "\n",
        "### 3. How did you select variables to be included in the model?"
      ]
    },
    {
      "cell_type": "markdown",
      "metadata": {
        "id": "1RV49-uPB-g7"
      },
      "source": [
        "From above analysis we know that fraud is only occured in 'TRANSFER' and 'CASH_OUT'. sow we choose only those type of payment and we will remove Variables -[ nameorig , namedest , isFlaggedFraud ]"
      ]
    },
    {
      "cell_type": "code",
      "execution_count": 21,
      "metadata": {
        "id": "eENo9heUB-g7"
      },
      "outputs": [],
      "source": [
        "x = df.loc[(df.type == 'TRANSFER') | (df.type == 'CASH_OUT')]\n",
        "y = x.isFraud\n",
        "x = x.drop(['isFraud','isFlaggedFraud','nameorig','namedest'],axis = 1)\n",
        "x['type']= x['type'].map({'TRANSFER':1,'CASH_OUT':2})"
      ]
    },
    {
      "cell_type": "markdown",
      "metadata": {
        "id": "tuLjsrKWB-g7"
      },
      "source": [
        "#### Replacing missing values -\n",
        "* There are transactions where newbalanceorig and oldbalanceorig is zero while amount is non zero so we replace them with np.nan.\n",
        "* There are newblancedest and oldbalancedest values are equal to zero but we can notimpute them because they shows the fraud transaction occured when amount is non zero instead of imputing them by 0 = -1"
      ]
    },
    {
      "cell_type": "code",
      "execution_count": 22,
      "metadata": {
        "id": "ZeWkhWcCB-g7"
      },
      "outputs": [],
      "source": [
        "x.loc[(x.oldbalancedest == 0) & (x.newbalancedest == 0) & (x.amount != 0) ,['oldbalancedest','newbalancedest'] ] = -1\n",
        "x.loc[(x.oldbalanceorig == 0) & (x.newbalanceorig == 0) & (x.amount != 0) ,['oldbalanceorig','newbalanceorig'] ] = 0\n",
        "\n",
        "#imputing missing values"
      ]
    },
    {
      "cell_type": "markdown",
      "metadata": {
        "id": "s1HQkHrlB-g7"
      },
      "source": [
        "#### Feature engineering -\n",
        "**From above analysis we can create two features of error at origin and destination account, where non zero amount is transfer but oldbalance and new balance have zero value**"
      ]
    },
    {
      "cell_type": "code",
      "execution_count": 23,
      "metadata": {
        "id": "QyepIzPMB-g7"
      },
      "outputs": [],
      "source": [
        "x['errorbalanceorig'] = x.newbalanceorig + x.amount - x.oldbalanceorig   # eg origin- oldbal = 10 ,newbal = 8 ,amount = 2 so, error =  8+2-10 = 0\n",
        "x['errorbalancedest'] = x.oldbalancedest + x.amount - x.newbalancedest   #eg - at dest its opposite , old bal = 8 ,new bal = 10 , amount = 2 :error = 8+2-10 = 0"
      ]
    },
    {
      "cell_type": "markdown",
      "metadata": {
        "id": "QhsUAVZuB-g8"
      },
      "source": [
        "### Machine learning for  predicting fraudulent transactions -\n"
      ]
    },
    {
      "cell_type": "markdown",
      "metadata": {
        "id": "N_JrsVTPB-g8"
      },
      "source": [
        "* checking if the data is imbalance or skew  -"
      ]
    },
    {
      "cell_type": "code",
      "execution_count": 24,
      "metadata": {
        "id": "n0vP0LkGB-hB",
        "colab": {
          "base_uri": "https://localhost:8080/"
        },
        "outputId": "413b4b32-2e85-4e03-a01b-496f8466a39a"
      },
      "outputs": [
        {
          "output_type": "stream",
          "name": "stdout",
          "text": [
            "107\n",
            "26455\n"
          ]
        }
      ],
      "source": [
        "xfraud = x.loc[y==1]\n",
        "xnotfraud = x.loc[y == 0]\n",
        "\n",
        "print(len(xfraud))\n",
        "print(len(xnotfraud))"
      ]
    },
    {
      "cell_type": "markdown",
      "metadata": {
        "id": "geqm33JnB-hB"
      },
      "source": [
        "Data split in (80:20) ratio between train and tesy"
      ]
    },
    {
      "cell_type": "code",
      "execution_count": 25,
      "metadata": {
        "id": "wjOCjGjbB-hB"
      },
      "outputs": [],
      "source": [
        "\n",
        "X_train, X_test, y_train, y_test = train_test_split(x, y, test_size=0.20, random_state=27)"
      ]
    },
    {
      "cell_type": "markdown",
      "metadata": {
        "id": "IzZ7xf-zB-hB"
      },
      "source": [
        "### 4. Demonstrate the performance of the model by using best set of tools.\n",
        "\n",
        "\n",
        "* **Selection of metric**: Since the data is highly skewed, I use the area under the precision-recall curve (AUPRC) rather than the conventional area under the receiver operating characteristic (AUROC).AUPRC on a dataset with 99% negative 1% positive examples, and it will “focus” on how the model handles the 1% positive examples. If the model handles the positive examples well, AUPRC will be high. If the model does poorly on the positive examples, AUPRC will be low.\n",
        "\n",
        "### 2. Describe your fraud detection model in elaboration.\n",
        "* **Selection of ML algorithm**: A first approach to deal with imbalanced data is to balance it by discarding the majority class before applying an ML algorithm. The disadvantage of undersampling is that a model trained in this way will not perform well on real-world skewed test data since almost all the information was discarded. A better approach might be to oversample the minority class, say by the synthetic minority oversampling technique (SMOTE) contained in the 'imblearn' library. Motivated by this, I tried a variety of anomaly-detection and supervised learning approaches. I find, however, that the best result is obtained on the original dataset by using a ML algorithm based on ensembles of decision trees that intrinsically performs well on imbalanced data. Such algorithms not only allow for constructing a model that can cope with the missing values in our data, but they naturally allow for speedup via parallel-processing. Among these algorithms, the extreme gradient-boosted (XGBoost) algorithm used. Finally, XGBoost, like several other ML algorithms, allows for weighting the positive class more compared to the negative class --- a setting that also allows to account for the skew in the dat"
      ]
    },
    {
      "cell_type": "code",
      "source": [
        "import xgboost as xgb\n",
        "from sklearn.metrics import average_precision_score\n",
        "print(y_train.unique())\n",
        "y_train = y_train.astype(int)"
      ],
      "metadata": {
        "id": "neF3cEgdQmzr",
        "colab": {
          "base_uri": "https://localhost:8080/"
        },
        "outputId": "5118c5f4-82ff-4f45-b854-30a426f710df"
      },
      "execution_count": 26,
      "outputs": [
        {
          "output_type": "stream",
          "name": "stdout",
          "text": [
            "[0. 1.]\n"
          ]
        }
      ]
    },
    {
      "cell_type": "code",
      "source": [
        "weights = (y_train == 0).sum() / (1.0 * (y_train == 1).sum()) #xgb uses the scale_pos_weight to account for highly skewed datset\n",
        "clf = xgb.XGBClassifier(max_depth=3, scale_pos_weight=weights, n_jobs=4)\n",
        "probabilities = clf.fit(X_train, y_train).predict_proba(X_test)\n",
        "print(\"AUPRC = {}\".format(average_precision_score(y_test, probabilities[:, 1])))"
      ],
      "metadata": {
        "id": "1dNry_WBQy8x",
        "colab": {
          "base_uri": "https://localhost:8080/"
        },
        "outputId": "79a5918d-be7b-4c51-d469-1540f54f3ed1"
      },
      "execution_count": 27,
      "outputs": [
        {
          "output_type": "stream",
          "name": "stdout",
          "text": [
            "AUPRC = 0.9882506127450981\n"
          ]
        }
      ]
    },
    {
      "cell_type": "markdown",
      "metadata": {
        "id": "ZDQgHu94B-hC"
      },
      "source": [
        "### SO AUPRC score is 0.98 means our model performing well on positive (fraudlant transaction) class."
      ]
    },
    {
      "cell_type": "markdown",
      "metadata": {
        "id": "WK3ZHYXWB-hC"
      },
      "source": [
        "\n",
        "**CONCLUSION** -\n",
        "\n",
        "\n",
        "7.What kind of prevention should be adopted while company update its infrastructure?\n",
        "* Company can prevent fraudalnt transaction by focusing more on payment method type - 'Transfer' & 'Cash_out'\n",
        "*  Look Out for Patterns in Fraud and Theft\n",
        "8.Assuming these actions have been implemented, how would you determine if they work?\n",
        "* we can retrain & maintain model after certain intervals so our model perform best under various fraudlant transaction.\n",
        "    "
      ]
    },
    {
      "cell_type": "code",
      "source": [],
      "metadata": {
        "id": "Cx0Jr3qeWIy1"
      },
      "execution_count": 30,
      "outputs": []
    },
    {
      "cell_type": "markdown",
      "source": [
        "For data cleaning, I would first check for missing values and remove any rows with missing- values. I would then check for outliers in the amount column and remove any extreme values that do not fall within a certain range. I would also check for multi-collinearity among the variables and remove any highly correlated variables.\n",
        "\n",
        "I would use a supervised machine learning model, such as Random Forest or GB classifier, to classify transactions as fraudulent or non-fraudulent. I would also use feature engineering to create new variables that may be useful in detecting fraud, such as the ratio of the transaction amount to the initial balance or amount thrushold.\n",
        "\n",
        "I would select variables to be included in the model based on their correlation with the target variable (isFraud) and their importance in detecting fraud. Variables such as type, amount, and the initial and final balances of both the customer and the recipient would be important for the model.\n",
        "\n",
        "\n",
        "The key factors that predict fraudulent customers would likely include high transaction amounts, sudden changes in account balances, and transactions involving multiple parties.\n",
        "\n",
        "These factors make sense as they are indicative of suspicious or unusual activity that may be indicative of fraud. High transaction amounts and sudden changes in account balances may be indicative of an attempt to steal funds, while transactions involving multiple parties may be indicative of money laundering or other illegal activities.\n",
        "\n",
        "To prevent fraud, the company could implement measures such as transaction monitoring, account monitoring, and two-factor authentication. Additionally, the company could also train its employees to identify and report suspicious activity.\n",
        "\n",
        "To determine if these actions are effective, the company could track the number of fraudulent transactions before and after the implementation of these measures. Additionally, the company could also conduct regular audits and assessments to identify any areas where the system may be vulnerable to fraud."
      ],
      "metadata": {
        "id": "NdN9rg-zWSJw"
      }
    },
    {
      "cell_type": "code",
      "source": [],
      "metadata": {
        "id": "tZ1k9tiNWTIq"
      },
      "execution_count": null,
      "outputs": []
    }
  ],
  "metadata": {
    "kernelspec": {
      "display_name": "Python 3",
      "language": "python",
      "name": "python3"
    },
    "language_info": {
      "codemirror_mode": {
        "name": "ipython",
        "version": 3
      },
      "file_extension": ".py",
      "mimetype": "text/x-python",
      "name": "python",
      "nbconvert_exporter": "python",
      "pygments_lexer": "ipython3",
      "version": "3.8.5"
    },
    "colab": {
      "provenance": [],
      "include_colab_link": true
    }
  },
  "nbformat": 4,
  "nbformat_minor": 0
}